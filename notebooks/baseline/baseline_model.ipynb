{
 "cells": [
  {
   "cell_type": "code",
   "execution_count": 52,
   "id": "initial_id",
   "metadata": {
    "collapsed": true,
    "ExecuteTime": {
     "end_time": "2023-08-28T21:00:13.670777800Z",
     "start_time": "2023-08-28T21:00:13.670777800Z"
    }
   },
   "outputs": [],
   "source": [
    "import numpy as np\n",
    "import pandas as pd\n",
    "from pathlib import Path\n",
    "import os\n",
    "import re"
   ]
  },
  {
   "cell_type": "code",
   "execution_count": 26,
   "outputs": [
    {
     "name": "stdout",
     "output_type": "stream",
     "text": [
      "../dataset/speech_emotion_recognition_kagle/Savee\n"
     ]
    }
   ],
   "source": [
    "image_dir = Path('../dataset/speech_emotion_recognition_kagle/Savee')\n",
    "\n",
    "print(image_dir)"
   ],
   "metadata": {
    "collapsed": false,
    "ExecuteTime": {
     "end_time": "2023-08-28T20:53:37.244351500Z",
     "start_time": "2023-08-28T20:53:37.196975200Z"
    }
   },
   "id": "b945a1d67e7abce6"
  },
  {
   "cell_type": "code",
   "execution_count": 35,
   "outputs": [
    {
     "data": {
      "text/plain": "PosixPath('../dataset/speech_emotion_recognition_kagle/Savee/DC_n13.wav')"
     },
     "execution_count": 35,
     "metadata": {},
     "output_type": "execute_result"
    }
   ],
   "source": [
    "filepaths = list(image_dir.glob(r'**/*.wav'))\n",
    "filepaths[0]"
   ],
   "metadata": {
    "collapsed": false,
    "ExecuteTime": {
     "end_time": "2023-08-28T20:55:06.773520700Z",
     "start_time": "2023-08-28T20:55:06.757898500Z"
    }
   },
   "id": "d05a0c72b7be1cf1"
  },
  {
   "cell_type": "code",
   "execution_count": null,
   "outputs": [],
   "source": [
    "re.sub('[^a-zA-Z]+', '', s)"
   ],
   "metadata": {
    "collapsed": false
   },
   "id": "46b512bc3f004335"
  },
  {
   "cell_type": "code",
   "execution_count": 61,
   "outputs": [
    {
     "data": {
      "text/plain": "{'a', 'd', 'f', 'h', 'n', 'sa', 'su'}"
     },
     "execution_count": 61,
     "metadata": {},
     "output_type": "execute_result"
    }
   ],
   "source": [
    "labels = list(map(lambda x: os.path.split(x)[1].split('/')[0].split('_')[1].split('.')[0], filepaths))\n",
    "labels = [re.sub('[^a-zA-Z]+', '', label) for label in labels]\n",
    "labels = set(labels)\n",
    "labels"
   ],
   "metadata": {
    "collapsed": false,
    "ExecuteTime": {
     "end_time": "2023-08-28T21:06:52.233075500Z",
     "start_time": "2023-08-28T21:06:52.217442100Z"
    }
   },
   "id": "cda914322f83f379"
  },
  {
   "cell_type": "code",
   "execution_count": null,
   "outputs": [],
   "source": [],
   "metadata": {
    "collapsed": false
   },
   "id": "c29ca8e038f8ea50"
  }
 ],
 "metadata": {
  "kernelspec": {
   "display_name": "Python 3",
   "language": "python",
   "name": "python3"
  },
  "language_info": {
   "codemirror_mode": {
    "name": "ipython",
    "version": 2
   },
   "file_extension": ".py",
   "mimetype": "text/x-python",
   "name": "python",
   "nbconvert_exporter": "python",
   "pygments_lexer": "ipython2",
   "version": "2.7.6"
  }
 },
 "nbformat": 4,
 "nbformat_minor": 5
}
